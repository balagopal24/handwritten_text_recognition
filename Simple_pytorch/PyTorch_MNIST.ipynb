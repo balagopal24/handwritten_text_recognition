{
 "nbformat": 4,
 "nbformat_minor": 0,
 "metadata": {
  "colab": {
   "name": "PyTorch Tutorial Basic v1.ipynb",
   "provenance": [],
   "collapsed_sections": [],
   "toc_visible": true
  },
  "kernelspec": {
   "name": "python3",
   "display_name": "Python 3"
  },
  "accelerator": "GPU",
  "pycharm": {
   "stem_cell": {
    "cell_type": "raw",
    "source": [],
    "metadata": {
     "collapsed": false
    }
   }
  }
 },
 "cells": [
  {
   "cell_type": "code",
   "metadata": {
    "id": "DPue4B2vPu2s",
    "colab_type": "code",
    "colab": {}
   },
   "source": [
    "# import standard PyTorch modules\n",
    "import torch\n",
    "import torch.nn as nn\n",
    "# import torch.nn.functional as F\n",
    "import torch.optim as optim\n",
    "from torch.utils.tensorboard import SummaryWriter # TensorBoard support\n",
    "\n",
    "# import torchvision module to handle image manipulation\n",
    "import torchvision\n",
    "import torchvision.transforms as transforms\n",
    "import torchvision.transforms.functional as F\n",
    "\n",
    "# calculate train time, writing train data to files etc.\n",
    "import time\n",
    "import pandas as pd\n",
    "import json\n",
    "from IPython.display import clear_output\n",
    "\n",
    "from PIL import Image, ImageOps\n",
    "import numpy as np\n",
    "\n",
    "torch.set_printoptions(linewidth=120)\n",
    "torch.set_grad_enabled(True)     # On by default, leave it here for clarity\n",
    "\n",
    "# Invert MNIST images. background-color needs to be write.\n",
    "class Invert(object):\n",
    "    \"\"\"Inverts the color channels of an PIL Image\n",
    "    while leaving intact the alpha channel.\n",
    "    \"\"\"\n",
    "    \n",
    "    def invert(self, img):\n",
    "        r\"\"\"Invert the input PIL Image.\n",
    "        Args:\n",
    "            img (PIL Image): Image to be inverted.\n",
    "        Returns:\n",
    "            PIL Image: Inverted image.\n",
    "        \"\"\"\n",
    "        if not F._is_pil_image(img):\n",
    "            raise TypeError('img should be PIL Image. Got {}'.format(type(img)))\n",
    "\n",
    "        if img.mode == 'RGBA':\n",
    "            r, g, b, a = img.split()\n",
    "            rgb = Image.merge('RGB', (r, g, b))\n",
    "            inv = ImageOps.invert(rgb)\n",
    "            r, g, b = inv.split()\n",
    "            inv = Image.merge('RGBA', (r, g, b, a))\n",
    "        elif img.mode == 'LA':\n",
    "            l, a = img.split()\n",
    "            l = ImageOps.invert(l)\n",
    "            inv = Image.merge('LA', (l, a))\n",
    "        else:\n",
    "            inv = ImageOps.invert(img)\n",
    "        return inv\n",
    "\n",
    "    def __call__(self, img):\n",
    "        \"\"\"\n",
    "        Args:\n",
    "            img (PIL Image): Image to be inverted.\n",
    "        Returns:\n",
    "            PIL Image: Inverted image.\n",
    "        \"\"\"\n",
    "        return self.invert(img)\n",
    "\n",
    "    def __repr__(self):\n",
    "        return self.__class__.__name__ + '()'"
   ],
   "execution_count": 0,
   "outputs": []
  },
  {
   "cell_type": "code",
   "metadata": {
    "id": "3iDlvtrBQZO3",
    "colab_type": "code",
    "outputId": "75e72910-2338-4c0b-ba0f-e56bd1be4c1a",
    "colab": {
     "base_uri": "https://localhost:8080/",
     "height": 51
    }
   },
   "source": [
    "# check PyTorch versions\n",
    "print(torch.__version__)\n",
    "print(torchvision.__version__)"
   ],
   "execution_count": 2,
   "outputs": [
    {
     "output_type": "stream",
     "text": [
      "1.4.0\n",
      "0.5.0\n"
     ],
     "name": "stdout"
    }
   ]
  },
  {
   "cell_type": "code",
   "metadata": {
    "id": "vvY6qsJ0Qy5n",
    "colab_type": "code",
    "colab": {}
   },
   "source": [
    "# Use standard MNIST dataset\n",
    "transforms = transforms.Compose([\n",
    "        Invert(),\n",
    "        transforms.ToTensor()\n",
    "    ])\n",
    "\n",
    "train_set = torchvision.datasets.MNIST(\n",
    "    root = './data/MNIST',\n",
    "    train = True,\n",
    "    download = True,\n",
    "    transform = transforms\n",
    ")\n",
    "\n",
    "test_set = torchvision.datasets.MNIST(\n",
    "    root = './data/MNIST',\n",
    "    train = False,\n",
    "    download = True,\n",
    "    transform = transforms\n",
    ")"
   ],
   "execution_count": 0,
   "outputs": []
  },
  {
   "cell_type": "code",
   "metadata": {
    "id": "rZPckqWTRXUm",
    "colab_type": "code",
    "colab": {}
   },
   "source": [
    "import torch.nn.functional as nnF\n",
    "# Build the neural network, expand on top of nn.Module\n",
    "class Network(nn.Module):\n",
    "  def __init__(self):\n",
    "    super().__init__()\n",
    "\n",
    "    # define layers\n",
    "    self.conv1 = nn.Conv2d(in_channels=1, out_channels=6, kernel_size=5)\n",
    "    self.conv2 = nn.Conv2d(in_channels=6, out_channels=12, kernel_size=5)\n",
    "\n",
    "    self.fc1 = nn.Linear(in_features=12*4*4, out_features=120)\n",
    "    self.fc2 = nn.Linear(in_features=120, out_features=60)\n",
    "    self.out = nn.Linear(in_features=60, out_features=10)\n",
    "\n",
    "  # define forward function\n",
    "  def forward(self, t):\n",
    "    # conv 1\n",
    "    t = self.conv1(t)\n",
    "    t = nnF.relu(t)\n",
    "    t = nnF.max_pool2d(t, kernel_size=2, stride=2)\n",
    "\n",
    "    # conv 2\n",
    "    t = self.conv2(t)\n",
    "    t = nnF.relu(t)\n",
    "    t = nnF.max_pool2d(t, kernel_size=2, stride=2)\n",
    "\n",
    "    # fc1\n",
    "    t = t.reshape(-1, 12*4*4)\n",
    "    t = self.fc1(t)\n",
    "    t = nnF.relu(t)\n",
    "\n",
    "    # fc2\n",
    "    t = self.fc2(t)\n",
    "    t = nnF.relu(t)\n",
    "\n",
    "    # output\n",
    "    t = self.out(t)\n",
    "    # don't need softmax here since we'll use cross-entropy as activation.\n",
    "\n",
    "    return t"
   ],
   "execution_count": 0,
   "outputs": []
  },
  {
   "cell_type": "code",
   "metadata": {
    "id": "cOe6m7forHCM",
    "colab_type": "code",
    "colab": {}
   },
   "source": [
    "def get_num_correct(preds, labels):\n",
    "  return preds.argmax(dim=1).eq(labels).sum().item()"
   ],
   "execution_count": 0,
   "outputs": []
  },
  {
   "cell_type": "code",
   "metadata": {
    "id": "mBOxsN4A7N8K",
    "colab_type": "code",
    "colab": {}
   },
   "source": [
    "# import modules to build RunBuilder and RunManager helper classes\n",
    "from collections  import OrderedDict\n",
    "from collections import namedtuple\n",
    "from itertools import product\n",
    "\n",
    "# Read in the hyper-parameters and return a Run namedtuple containing all the \n",
    "# combinations of hyper-parameters\n",
    "class RunBuilder():\n",
    "  @staticmethod\n",
    "  def get_runs(params):\n",
    "\n",
    "    Run = namedtuple('Run', params.keys())\n",
    "\n",
    "    runs = []\n",
    "    for v in product(*params.values()):\n",
    "      runs.append(Run(*v))\n",
    "    \n",
    "    return runs"
   ],
   "execution_count": 0,
   "outputs": []
  },
  {
   "cell_type": "code",
   "metadata": {
    "id": "HSddFGL7zisa",
    "colab_type": "code",
    "colab": {}
   },
   "source": [
    "# Helper class, help track loss, accuracy, epoch time, run time, \n",
    "# hyper-parameters etc. Also record to TensorBoard and write into csv, json\n",
    "class RunManager():\n",
    "  def __init__(self):\n",
    "\n",
    "    # tracking every epoch count, loss, accuracy, time\n",
    "    self.epoch_count = 0\n",
    "    self.epoch_loss = 0\n",
    "    self.epoch_num_correct = 0\n",
    "    self.epoch_start_time = None\n",
    "\n",
    "    # tracking every run count, run data, hyper-params used, time\n",
    "    self.run_params = None\n",
    "    self.run_count = 0\n",
    "    self.run_data = []\n",
    "    self.run_start_time = None\n",
    "\n",
    "    # record model, loader and TensorBoard \n",
    "    self.network = None\n",
    "    self.loader = None\n",
    "    self.tb = None\n",
    "\n",
    "  # record the count, hyper-param, model, loader of each run\n",
    "  # record sample images and network graph to TensorBoard  \n",
    "  def begin_run(self, run, network, loader):\n",
    "\n",
    "    self.run_start_time = time.time()\n",
    "\n",
    "    self.run_params = run\n",
    "    self.run_count += 1\n",
    "\n",
    "    self.network = network\n",
    "    self.loader = loader\n",
    "    self.tb = SummaryWriter(comment=f'-{run}')\n",
    "\n",
    "    images, labels = next(iter(self.loader))\n",
    "    grid = torchvision.utils.make_grid(images)\n",
    "\n",
    "    self.tb.add_image('images', grid)\n",
    "    self.tb.add_graph(self.network, images)\n",
    "\n",
    "  # when run ends, close TensorBoard, zero epoch count\n",
    "  def end_run(self):\n",
    "    self.tb.close()\n",
    "    self.epoch_count = 0\n",
    "\n",
    "  # zero epoch count, loss, accuracy, \n",
    "  def begin_epoch(self):\n",
    "    self.epoch_start_time = time.time()\n",
    "\n",
    "    self.epoch_count += 1\n",
    "    self.epoch_loss = 0\n",
    "    self.epoch_num_correct = 0\n",
    "\n",
    "  # \n",
    "  def end_epoch(self):\n",
    "    # calculate epoch duration and run duration(accumulate)\n",
    "    epoch_duration = time.time() - self.epoch_start_time\n",
    "    run_duration = time.time() - self.run_start_time\n",
    "\n",
    "    # record epoch loss and accuracy\n",
    "    loss = self.epoch_loss / len(self.loader.dataset)\n",
    "    accuracy = self.epoch_num_correct / len(self.loader.dataset)\n",
    "\n",
    "    # Record epoch loss and accuracy to TensorBoard \n",
    "    self.tb.add_scalar('Loss', loss, self.epoch_count)\n",
    "    self.tb.add_scalar('Accuracy', accuracy, self.epoch_count)\n",
    "\n",
    "    # Record params to TensorBoard\n",
    "    for name, param in self.network.named_parameters():\n",
    "      self.tb.add_histogram(name, param, self.epoch_count)\n",
    "      self.tb.add_histogram(f'{name}.grad', param.grad, self.epoch_count)\n",
    "    \n",
    "    # Write into 'results' (OrderedDict) for all run related data\n",
    "    results = OrderedDict()\n",
    "    results[\"run\"] = self.run_count\n",
    "    results[\"epoch\"] = self.epoch_count\n",
    "    results[\"loss\"] = loss\n",
    "    results[\"accuracy\"] = accuracy\n",
    "    results[\"epoch duration\"] = epoch_duration\n",
    "    results[\"run duration\"] = run_duration\n",
    "\n",
    "    # Record hyper-params into 'results'\n",
    "    for k,v in self.run_params._asdict().items(): results[k] = v\n",
    "    self.run_data.append(results)\n",
    "    df = pd.DataFrame.from_dict(self.run_data, orient = 'columns')\n",
    "\n",
    "    # display epoch information and show progress\n",
    "    clear_output(wait=True)\n",
    "    display(df)\n",
    "\n",
    "  # accumulate loss of batch into entire epoch loss\n",
    "  def track_loss(self, loss):\n",
    "    # multiply batch size so variety of batch sizes can be compared\n",
    "    self.epoch_loss += loss.item() * self.loader.batch_size\n",
    "\n",
    "  # accumulate number of corrects of batch into entire epoch num_correct\n",
    "  def track_num_correct(self, preds, labels):\n",
    "    self.epoch_num_correct += self._get_num_correct(preds, labels)\n",
    "\n",
    "  @torch.no_grad()\n",
    "  def _get_num_correct(self, preds, labels):\n",
    "    return preds.argmax(dim=1).eq(labels).sum().item()\n",
    "  \n",
    "  # save end results of all runs into csv, json for further a\n",
    "  def save(self, fileName):\n",
    "\n",
    "    pd.DataFrame.from_dict(\n",
    "        self.run_data, \n",
    "        orient = 'columns',\n",
    "    ).to_csv(f'{fileName}.csv')\n",
    "\n",
    "    with open(f'{fileName}.json', 'w', encoding='utf-8') as f:\n",
    "      json.dump(self.run_data, f, ensure_ascii=False, indent=4)"
   ],
   "execution_count": 0,
   "outputs": []
  },
  {
   "cell_type": "code",
   "metadata": {
    "id": "1Rs-jD_Z-C-L",
    "colab_type": "code",
    "colab": {}
   },
   "source": [
    "# put all hyper params into a OrderedDict, easily expandable\n",
    "params = OrderedDict(\n",
    "    lr = [.01, .001],\n",
    "    batch_size = [100, 1000],\n",
    "    shuffle = [False]\n",
    ")\n",
    "epochs = 5"
   ],
   "execution_count": 0,
   "outputs": []
  },
  {
   "cell_type": "code",
   "metadata": {
    "id": "ZL-SM1wgUHql",
    "colab_type": "code",
    "colab": {
     "base_uri": "https://localhost:8080/",
     "height": 669
    },
    "outputId": "2f3a595f-18ac-4d3c-e4fe-74f30c9535d1"
   },
   "source": [
    "m = RunManager()\n",
    "\n",
    "# get all runs from params using RunBuilder class\n",
    "for run in RunBuilder.get_runs(params):\n",
    "\n",
    "    # if params changes, following line of code should reflect the changes too\n",
    "    network = Network()\n",
    "    loader = torch.utils.data.DataLoader(train_set, batch_size = run.batch_size)\n",
    "    optimizer = optim.Adam(network.parameters(), lr=run.lr)\n",
    "\n",
    "    m.begin_run(run, network, loader)\n",
    "    for epoch in range(epochs):\n",
    "      \n",
    "      m.begin_epoch()\n",
    "      for batch in loader:\n",
    "        \n",
    "        images = batch[0]\n",
    "        labels = batch[1]\n",
    "        preds = network(images)\n",
    "        loss = nnF.cross_entropy(preds, labels)\n",
    "\n",
    "        optimizer.zero_grad()\n",
    "        loss.backward()\n",
    "        optimizer.step()\n",
    "\n",
    "        m.track_loss(loss)\n",
    "        m.track_num_correct(preds, labels)\n",
    "\n",
    "      m.end_epoch()\n",
    "    m.end_run()\n",
    "\n",
    "# when all runs are done, save results to files\n",
    "m.save('results')"
   ],
   "execution_count": 9,
   "outputs": [
    {
     "output_type": "display_data",
     "data": {
      "text/html": [
       "<div>\n",
       "<style scoped>\n",
       "    .dataframe tbody tr th:only-of-type {\n",
       "        vertical-align: middle;\n",
       "    }\n",
       "\n",
       "    .dataframe tbody tr th {\n",
       "        vertical-align: top;\n",
       "    }\n",
       "\n",
       "    .dataframe thead th {\n",
       "        text-align: right;\n",
       "    }\n",
       "</style>\n",
       "<table border=\"1\" class=\"dataframe\">\n",
       "  <thead>\n",
       "    <tr style=\"text-align: right;\">\n",
       "      <th></th>\n",
       "      <th>run</th>\n",
       "      <th>epoch</th>\n",
       "      <th>loss</th>\n",
       "      <th>accuracy</th>\n",
       "      <th>epoch duration</th>\n",
       "      <th>run duration</th>\n",
       "      <th>lr</th>\n",
       "      <th>batch_size</th>\n",
       "      <th>shuffle</th>\n",
       "    </tr>\n",
       "  </thead>\n",
       "  <tbody>\n",
       "    <tr>\n",
       "      <th>0</th>\n",
       "      <td>1</td>\n",
       "      <td>1</td>\n",
       "      <td>0.200507</td>\n",
       "      <td>0.938183</td>\n",
       "      <td>20.123254</td>\n",
       "      <td>22.004647</td>\n",
       "      <td>0.010</td>\n",
       "      <td>100</td>\n",
       "      <td>False</td>\n",
       "    </tr>\n",
       "    <tr>\n",
       "      <th>1</th>\n",
       "      <td>1</td>\n",
       "      <td>2</td>\n",
       "      <td>0.085125</td>\n",
       "      <td>0.975600</td>\n",
       "      <td>20.202437</td>\n",
       "      <td>42.341079</td>\n",
       "      <td>0.010</td>\n",
       "      <td>100</td>\n",
       "      <td>False</td>\n",
       "    </tr>\n",
       "    <tr>\n",
       "      <th>2</th>\n",
       "      <td>1</td>\n",
       "      <td>3</td>\n",
       "      <td>0.070723</td>\n",
       "      <td>0.979900</td>\n",
       "      <td>20.252287</td>\n",
       "      <td>62.734056</td>\n",
       "      <td>0.010</td>\n",
       "      <td>100</td>\n",
       "      <td>False</td>\n",
       "    </tr>\n",
       "    <tr>\n",
       "      <th>3</th>\n",
       "      <td>1</td>\n",
       "      <td>4</td>\n",
       "      <td>0.061471</td>\n",
       "      <td>0.982917</td>\n",
       "      <td>20.280809</td>\n",
       "      <td>83.144503</td>\n",
       "      <td>0.010</td>\n",
       "      <td>100</td>\n",
       "      <td>False</td>\n",
       "    </tr>\n",
       "    <tr>\n",
       "      <th>4</th>\n",
       "      <td>1</td>\n",
       "      <td>5</td>\n",
       "      <td>0.073791</td>\n",
       "      <td>0.979900</td>\n",
       "      <td>20.327158</td>\n",
       "      <td>103.611799</td>\n",
       "      <td>0.010</td>\n",
       "      <td>100</td>\n",
       "      <td>False</td>\n",
       "    </tr>\n",
       "    <tr>\n",
       "      <th>5</th>\n",
       "      <td>2</td>\n",
       "      <td>1</td>\n",
       "      <td>0.954118</td>\n",
       "      <td>0.668400</td>\n",
       "      <td>19.449109</td>\n",
       "      <td>20.241029</td>\n",
       "      <td>0.010</td>\n",
       "      <td>1000</td>\n",
       "      <td>False</td>\n",
       "    </tr>\n",
       "    <tr>\n",
       "      <th>6</th>\n",
       "      <td>2</td>\n",
       "      <td>2</td>\n",
       "      <td>0.170981</td>\n",
       "      <td>0.946517</td>\n",
       "      <td>19.431405</td>\n",
       "      <td>39.812802</td>\n",
       "      <td>0.010</td>\n",
       "      <td>1000</td>\n",
       "      <td>False</td>\n",
       "    </tr>\n",
       "    <tr>\n",
       "      <th>7</th>\n",
       "      <td>2</td>\n",
       "      <td>3</td>\n",
       "      <td>0.114649</td>\n",
       "      <td>0.964800</td>\n",
       "      <td>19.277880</td>\n",
       "      <td>59.218279</td>\n",
       "      <td>0.010</td>\n",
       "      <td>1000</td>\n",
       "      <td>False</td>\n",
       "    </tr>\n",
       "    <tr>\n",
       "      <th>8</th>\n",
       "      <td>2</td>\n",
       "      <td>4</td>\n",
       "      <td>0.089524</td>\n",
       "      <td>0.972350</td>\n",
       "      <td>19.378500</td>\n",
       "      <td>78.734183</td>\n",
       "      <td>0.010</td>\n",
       "      <td>1000</td>\n",
       "      <td>False</td>\n",
       "    </tr>\n",
       "    <tr>\n",
       "      <th>9</th>\n",
       "      <td>2</td>\n",
       "      <td>5</td>\n",
       "      <td>0.074864</td>\n",
       "      <td>0.976650</td>\n",
       "      <td>19.460661</td>\n",
       "      <td>98.347707</td>\n",
       "      <td>0.010</td>\n",
       "      <td>1000</td>\n",
       "      <td>False</td>\n",
       "    </tr>\n",
       "    <tr>\n",
       "      <th>10</th>\n",
       "      <td>3</td>\n",
       "      <td>1</td>\n",
       "      <td>0.499451</td>\n",
       "      <td>0.848717</td>\n",
       "      <td>20.562505</td>\n",
       "      <td>20.689608</td>\n",
       "      <td>0.001</td>\n",
       "      <td>100</td>\n",
       "      <td>False</td>\n",
       "    </tr>\n",
       "    <tr>\n",
       "      <th>11</th>\n",
       "      <td>3</td>\n",
       "      <td>2</td>\n",
       "      <td>0.135504</td>\n",
       "      <td>0.958050</td>\n",
       "      <td>20.709670</td>\n",
       "      <td>41.528864</td>\n",
       "      <td>0.001</td>\n",
       "      <td>100</td>\n",
       "      <td>False</td>\n",
       "    </tr>\n",
       "    <tr>\n",
       "      <th>12</th>\n",
       "      <td>3</td>\n",
       "      <td>3</td>\n",
       "      <td>0.092110</td>\n",
       "      <td>0.970967</td>\n",
       "      <td>20.631237</td>\n",
       "      <td>62.298395</td>\n",
       "      <td>0.001</td>\n",
       "      <td>100</td>\n",
       "      <td>False</td>\n",
       "    </tr>\n",
       "    <tr>\n",
       "      <th>13</th>\n",
       "      <td>3</td>\n",
       "      <td>4</td>\n",
       "      <td>0.071782</td>\n",
       "      <td>0.977433</td>\n",
       "      <td>20.673724</td>\n",
       "      <td>83.099065</td>\n",
       "      <td>0.001</td>\n",
       "      <td>100</td>\n",
       "      <td>False</td>\n",
       "    </tr>\n",
       "    <tr>\n",
       "      <th>14</th>\n",
       "      <td>3</td>\n",
       "      <td>5</td>\n",
       "      <td>0.059115</td>\n",
       "      <td>0.981200</td>\n",
       "      <td>20.865448</td>\n",
       "      <td>104.099028</td>\n",
       "      <td>0.001</td>\n",
       "      <td>100</td>\n",
       "      <td>False</td>\n",
       "    </tr>\n",
       "    <tr>\n",
       "      <th>15</th>\n",
       "      <td>4</td>\n",
       "      <td>1</td>\n",
       "      <td>1.643700</td>\n",
       "      <td>0.506167</td>\n",
       "      <td>19.527589</td>\n",
       "      <td>20.267140</td>\n",
       "      <td>0.001</td>\n",
       "      <td>1000</td>\n",
       "      <td>False</td>\n",
       "    </tr>\n",
       "    <tr>\n",
       "      <th>16</th>\n",
       "      <td>4</td>\n",
       "      <td>2</td>\n",
       "      <td>0.493496</td>\n",
       "      <td>0.849500</td>\n",
       "      <td>19.374133</td>\n",
       "      <td>39.779655</td>\n",
       "      <td>0.001</td>\n",
       "      <td>1000</td>\n",
       "      <td>False</td>\n",
       "    </tr>\n",
       "    <tr>\n",
       "      <th>17</th>\n",
       "      <td>4</td>\n",
       "      <td>3</td>\n",
       "      <td>0.298896</td>\n",
       "      <td>0.912933</td>\n",
       "      <td>19.516182</td>\n",
       "      <td>59.432694</td>\n",
       "      <td>0.001</td>\n",
       "      <td>1000</td>\n",
       "      <td>False</td>\n",
       "    </tr>\n",
       "    <tr>\n",
       "      <th>18</th>\n",
       "      <td>4</td>\n",
       "      <td>4</td>\n",
       "      <td>0.215008</td>\n",
       "      <td>0.936100</td>\n",
       "      <td>19.414785</td>\n",
       "      <td>78.980433</td>\n",
       "      <td>0.001</td>\n",
       "      <td>1000</td>\n",
       "      <td>False</td>\n",
       "    </tr>\n",
       "    <tr>\n",
       "      <th>19</th>\n",
       "      <td>4</td>\n",
       "      <td>5</td>\n",
       "      <td>0.169560</td>\n",
       "      <td>0.949300</td>\n",
       "      <td>19.482883</td>\n",
       "      <td>98.605097</td>\n",
       "      <td>0.001</td>\n",
       "      <td>1000</td>\n",
       "      <td>False</td>\n",
       "    </tr>\n",
       "  </tbody>\n",
       "</table>\n",
       "</div>"
      ],
      "text/plain": [
       "    run  epoch      loss  accuracy  ...  run duration     lr  batch_size  shuffle\n",
       "0     1      1  0.200507  0.938183  ...     22.004647  0.010         100    False\n",
       "1     1      2  0.085125  0.975600  ...     42.341079  0.010         100    False\n",
       "2     1      3  0.070723  0.979900  ...     62.734056  0.010         100    False\n",
       "3     1      4  0.061471  0.982917  ...     83.144503  0.010         100    False\n",
       "4     1      5  0.073791  0.979900  ...    103.611799  0.010         100    False\n",
       "5     2      1  0.954118  0.668400  ...     20.241029  0.010        1000    False\n",
       "6     2      2  0.170981  0.946517  ...     39.812802  0.010        1000    False\n",
       "7     2      3  0.114649  0.964800  ...     59.218279  0.010        1000    False\n",
       "8     2      4  0.089524  0.972350  ...     78.734183  0.010        1000    False\n",
       "9     2      5  0.074864  0.976650  ...     98.347707  0.010        1000    False\n",
       "10    3      1  0.499451  0.848717  ...     20.689608  0.001         100    False\n",
       "11    3      2  0.135504  0.958050  ...     41.528864  0.001         100    False\n",
       "12    3      3  0.092110  0.970967  ...     62.298395  0.001         100    False\n",
       "13    3      4  0.071782  0.977433  ...     83.099065  0.001         100    False\n",
       "14    3      5  0.059115  0.981200  ...    104.099028  0.001         100    False\n",
       "15    4      1  1.643700  0.506167  ...     20.267140  0.001        1000    False\n",
       "16    4      2  0.493496  0.849500  ...     39.779655  0.001        1000    False\n",
       "17    4      3  0.298896  0.912933  ...     59.432694  0.001        1000    False\n",
       "18    4      4  0.215008  0.936100  ...     78.980433  0.001        1000    False\n",
       "19    4      5  0.169560  0.949300  ...     98.605097  0.001        1000    False\n",
       "\n",
       "[20 rows x 9 columns]"
      ]
     },
     "metadata": {
      "tags": []
     }
    }
   ]
  },
  {
   "cell_type": "code",
   "metadata": {
    "id": "3WJ2b7t-Ibdv",
    "colab_type": "code",
    "colab": {}
   },
   "source": [
    "# helper function to calculate all predictions of train set\n",
    "def get_all_preds(model, loader):\n",
    "  all_preds = torch.tensor([])\n",
    "  for batch in loader:\n",
    "    images, labels = batch\n",
    "\n",
    "    preds = model(images)\n",
    "    all_preds = torch.cat(\n",
    "        (all_preds, preds),\n",
    "        dim = 0\n",
    "    )\n",
    "  return all_preds"
   ],
   "execution_count": 0,
   "outputs": []
  },
  {
   "cell_type": "code",
   "metadata": {
    "id": "SfSculOmI5Y3",
    "colab_type": "code",
    "colab": {}
   },
   "source": [
    "# bigger batch size since we only do FP\n",
    "prediction_loader = torch.utils.data.DataLoader(train_set, batch_size=1000)\n",
    "train_preds = get_all_preds(network, prediction_loader)"
   ],
   "execution_count": 0,
   "outputs": []
  },
  {
   "cell_type": "code",
   "metadata": {
    "id": "3Nfb8Z3aKz47",
    "colab_type": "code",
    "colab": {
     "base_uri": "https://localhost:8080/",
     "height": 204
    },
    "outputId": "7ef018b1-68d4-4460-b3d0-7325e5ca544e"
   },
   "source": [
    "!pip install scikit-plot"
   ],
   "execution_count": 12,
   "outputs": [
    {
     "output_type": "stream",
     "text": [
      "Requirement already satisfied: scikit-plot in /usr/local/lib/python3.6/dist-packages (0.3.7)\n",
      "Requirement already satisfied: joblib>=0.10 in /usr/local/lib/python3.6/dist-packages (from scikit-plot) (0.14.1)\n",
      "Requirement already satisfied: scikit-learn>=0.18 in /usr/local/lib/python3.6/dist-packages (from scikit-plot) (0.22.2.post1)\n",
      "Requirement already satisfied: scipy>=0.9 in /usr/local/lib/python3.6/dist-packages (from scikit-plot) (1.4.1)\n",
      "Requirement already satisfied: matplotlib>=1.4.0 in /usr/local/lib/python3.6/dist-packages (from scikit-plot) (3.2.1)\n",
      "Requirement already satisfied: numpy>=1.11.0 in /usr/local/lib/python3.6/dist-packages (from scikit-learn>=0.18->scikit-plot) (1.18.2)\n",
      "Requirement already satisfied: kiwisolver>=1.0.1 in /usr/local/lib/python3.6/dist-packages (from matplotlib>=1.4.0->scikit-plot) (1.2.0)\n",
      "Requirement already satisfied: cycler>=0.10 in /usr/local/lib/python3.6/dist-packages (from matplotlib>=1.4.0->scikit-plot) (0.10.0)\n",
      "Requirement already satisfied: python-dateutil>=2.1 in /usr/local/lib/python3.6/dist-packages (from matplotlib>=1.4.0->scikit-plot) (2.8.1)\n",
      "Requirement already satisfied: pyparsing!=2.0.4,!=2.1.2,!=2.1.6,>=2.0.1 in /usr/local/lib/python3.6/dist-packages (from matplotlib>=1.4.0->scikit-plot) (2.4.7)\n",
      "Requirement already satisfied: six in /usr/local/lib/python3.6/dist-packages (from cycler>=0.10->matplotlib>=1.4.0->scikit-plot) (1.12.0)\n"
     ],
     "name": "stdout"
    }
   ]
  },
  {
   "cell_type": "code",
   "metadata": {
    "id": "Cjmpnd7jeSvc",
    "colab_type": "code",
    "colab": {
     "base_uri": "https://localhost:8080/",
     "height": 187
    },
    "outputId": "70e91689-4c18-426e-9b9a-93180821266f"
   },
   "source": [
    "# use scikitplot to plot the confusion matrix\n",
    "import matplotlib.pyplot as plt\n",
    "\n",
    "from sklearn.metrics import confusion_matrix\n",
    "import scikitplot as skplt\n",
    "\n",
    "cm = confusion_matrix(train_set.targets, train_preds.argmax(dim=1))\n",
    "cm"
   ],
   "execution_count": 13,
   "outputs": [
    {
     "output_type": "execute_result",
     "data": {
      "text/plain": [
       "array([[5813,    1,    3,    0,    5,   19,   30,   13,   21,   18],\n",
       "       [   1, 6575,   52,   13,   11,    1,    8,   17,   41,   23],\n",
       "       [  31,   31, 5546,   39,   39,   13,   25,  114,  101,   19],\n",
       "       [  24,    7,   68, 5648,    0,  172,    1,   60,  108,   43],\n",
       "       [   3,    7,   20,    0, 5568,    1,   54,    7,    6,  176],\n",
       "       [  23,    2,    5,   19,    5, 5258,   31,   11,   32,   35],\n",
       "       [  44,   11,    9,    0,   25,   58, 5754,    0,   17,    0],\n",
       "       [  11,   11,   47,    9,   28,   12,    0, 6023,   14,  110],\n",
       "       [  22,   42,   23,   48,   11,   69,   25,   19, 5451,  141],\n",
       "       [  40,    5,    6,   30,   81,   39,    1,  118,   46, 5583]])"
      ]
     },
     "metadata": {
      "tags": []
     },
     "execution_count": 13
    }
   ]
  },
  {
   "cell_type": "code",
   "metadata": {
    "id": "_iMsrhFiHyLu",
    "colab_type": "code",
    "colab": {
     "base_uri": "https://localhost:8080/",
     "height": 312
    },
    "outputId": "2f7d225b-d897-476b-f496-91b032fc9035"
   },
   "source": [
    "skplt.metrics.plot_confusion_matrix(train_set.targets,train_preds.argmax(dim=1), normalize=True)"
   ],
   "execution_count": 14,
   "outputs": [
    {
     "output_type": "execute_result",
     "data": {
      "text/plain": [
       "<matplotlib.axes._subplots.AxesSubplot at 0x7f285d233ba8>"
      ]
     },
     "metadata": {
      "tags": []
     },
     "execution_count": 14
    },
    {
     "output_type": "display_data",
     "data": {
      "image/png": "[encoded data removed]",
      "text/plain": [
       "<Figure size 432x288 with 2 Axes>"
      ]
     },
     "metadata": {
      "tags": [],
      "needs_background": "light"
     }
    }
   ]
  },
  {
   "cell_type": "code",
   "metadata": {
    "id": "guThaIpBMl8J",
    "colab_type": "code",
    "outputId": "e4c1b3be-5a4e-40bf-e439-3b60ee6cbda9",
    "colab": {
     "base_uri": "https://localhost:8080/",
     "height": 255
    }
   },
   "source": [
    "# use ngrok to display TensorBoard on Colab\n",
    "!wget https://bin.equinox.io/c/4VmDzA7iaHb/ngrok-stable-linux-amd64.zip\n",
    "!unzip ngrok-stable-linux-amd64.zip\n"
   ],
   "execution_count": 22,
   "outputs": [
    {
     "output_type": "stream",
     "text": [
      "--2020-04-21 11:15:08--  https://bin.equinox.io/c/4VmDzA7iaHb/ngrok-stable-linux-amd64.zip\n",
      "Resolving bin.equinox.io (bin.equinox.io)... 34.226.145.86, 52.5.204.126, 34.192.108.200, ...\n",
      "Connecting to bin.equinox.io (bin.equinox.io)|34.226.145.86|:443... connected.\n",
      "HTTP request sent, awaiting response... 200 OK\n",
      "Length: 13773305 (13M) [application/octet-stream]\n",
      "Saving to: ‘ngrok-stable-linux-amd64.zip.2’\n",
      "\n",
      "ngrok-stable-linux- 100%[===================>]  13.13M  6.54MB/s    in 2.0s    \n",
      "\n",
      "2020-04-21 11:15:11 (6.54 MB/s) - ‘ngrok-stable-linux-amd64.zip.2’ saved [13773305/13773305]\n",
      "\n",
      "Archive:  ngrok-stable-linux-amd64.zip\n",
      "replace ngrok? [y]es, [n]o, [A]ll, [N]one, [r]ename: A\n",
      "  inflating: ngrok                   \n"
     ],
     "name": "stdout"
    }
   ]
  },
  {
   "cell_type": "code",
   "metadata": {
    "id": "zXIf3ARdMsFm",
    "colab_type": "code",
    "colab": {}
   },
   "source": [
    "LOG_DIR = './runs'\n",
    "get_ipython().system_raw(\n",
    "    'tensorboard --logdir {} --host 0.0.0.0 --port 6006 &'\n",
    "    .format(LOG_DIR)\n",
    ")"
   ],
   "execution_count": 0,
   "outputs": []
  },
  {
   "cell_type": "code",
   "metadata": {
    "id": "YerFMXaZU2WT",
    "colab_type": "code",
    "colab": {}
   },
   "source": [
    "get_ipython().system_raw('./ngrok http 6006 &')\n"
   ],
   "execution_count": 0,
   "outputs": []
  },
  {
   "cell_type": "code",
   "metadata": {
    "id": "ui9bGasKU7Qj",
    "colab_type": "code",
    "colab": {
     "base_uri": "https://localhost:8080/",
     "height": 34
    },
    "outputId": "28a9c3ba-3267-4931-853f-f73edd6712ac"
   },
   "source": [
    "! curl -s http://localhost:4040/api/tunnels | python3 -c \\\n",
    "    \"import sys, json; print(json.load(sys.stdin)['tunnels'][0]['public_url'])\""
   ],
   "execution_count": 17,
   "outputs": [
    {
     "output_type": "stream",
     "text": [
      "https://95463f57.ngrok.io\n"
     ],
     "name": "stdout"
    }
   ]
  },
  {
   "cell_type": "markdown",
   "metadata": {
    "id": "Dl6eEECXfumS",
    "colab_type": "text"
   },
   "source": [
    "Test loader prediction"
   ]
  },
  {
   "cell_type": "code",
   "metadata": {
    "id": "OIm37f1QVBIo",
    "colab_type": "code",
    "colab": {
     "base_uri": "https://localhost:8080/",
     "height": 366
    },
    "outputId": "db068648-f3bd-437c-d78a-40ec31bf71a8"
   },
   "source": [
    "import numpy as np\n",
    "\n",
    "prediction_loader = torch.utils.data.DataLoader(test_set, batch_size=10)\n",
    "image_iter = iter(prediction_loader)\n",
    "images, labels = image_iter.next()\n",
    "print(images.shape)\n",
    "\n",
    "output = network(images)\n",
    "\n",
    "images = images.numpy()\n",
    "labels = labels.numpy()\n",
    "print(\"actual: \", labels)\n",
    "\n",
    "_, predictions = torch.max(output,1)\n",
    "predictions = predictions.numpy()\n",
    "print(\"predictions: \", predictions)\n",
    "\n",
    "idx = 1\n",
    "image = np.squeeze(images[idx])\n",
    "print(image.shape)\n",
    "label = labels[idx]\n",
    "prediction = predictions[idx]\n",
    "plt.imshow(image, cmap=\"gray\")\n",
    "plt.title(\"actual: \" + str(label) + \" || \" + \"predicted: \" + str(prediction))"
   ],
   "execution_count": 18,
   "outputs": [
    {
     "output_type": "stream",
     "text": [
      "torch.Size([10, 1, 28, 28])\n",
      "actual:  [7 2 1 0 4 1 4 9 5 9]\n",
      "predictions:  [7 2 1 0 4 1 4 9 5 9]\n",
      "(28, 28)\n"
     ],
     "name": "stdout"
    },
    {
     "output_type": "execute_result",
     "data": {
      "text/plain": [
       "Text(0.5, 1.0, 'actual: 2 || predicted: 2')"
      ]
     },
     "metadata": {
      "tags": []
     },
     "execution_count": 18
    },
    {
     "output_type": "display_data",
     "data": {
      "image/png": "[encoded data removed]",
      "text/plain": [
       "<Figure size 432x288 with 1 Axes>"
      ]
     },
     "metadata": {
      "tags": [],
      "needs_background": "light"
     }
    }
   ]
  },
  {
   "cell_type": "markdown",
   "metadata": {
    "id": "g-al68o7c979",
    "colab_type": "text"
   },
   "source": [
    "## Test My draw"
   ]
  },
  {
   "cell_type": "code",
   "metadata": {
    "id": "AmG7SvD3c_s8",
    "colab_type": "code",
    "colab": {
     "base_uri": "https://localhost:8080/",
     "height": 894
    },
    "outputId": "4f436c33-d324-462b-9286-e4e91054207d"
   },
   "source": [
    "# image edit.\n",
    "def rgb2gray(rgb):\n",
    "    return np.dot(rgb[...,:3], [0.299, 0.587, 0.144])\n",
    "\n",
    "inv = Invert()\n",
    "\n",
    "import cv2\n",
    "image_path = \"2_2.jpg\"\n",
    "image = cv2.imread(image_path)\n",
    "plt.imshow(image)\n",
    "plt.title(\"original image\")\n",
    "image = np.asarray(inv(Image.fromarray(image)))\n",
    "std = np.std(image)\n",
    "mean = np.mean(image)\n",
    "image = (image - mean) / std\n",
    "plt.figure()\n",
    "plt.imshow(image, cmap=\"gray\")\n",
    "plt.title(\"grayscale image\")\n",
    "print(image.shape)\n",
    "\n",
    "image = rgb2gray(image)\n",
    "# image = np.squeeze(image)\n",
    "print(image.shape)\n",
    "image = cv2.resize(image, dsize=(28,28) ,interpolation=cv2.INTER_CUBIC)\n",
    "print(image.shape)\n",
    "\n",
    "plt.figure()\n",
    "plt.imshow(image, cmap=\"gray\")\n",
    "plt.title(\"downsampled grayscale image\")"
   ],
   "execution_count": 21,
   "outputs": [
    {
     "output_type": "stream",
     "text": [
      "Clipping input data to the valid range for imshow with RGB data ([0..1] for floats or [0..255] for integers).\n"
     ],
     "name": "stderr"
    },
    {
     "output_type": "stream",
     "text": [
      "(486, 454, 3)\n",
      "(486, 454)\n",
      "(28, 28)\n"
     ],
     "name": "stdout"
    },
    {
     "output_type": "execute_result",
     "data": {
      "text/plain": [
       "Text(0.5, 1.0, 'downsampled grayscale image')"
      ]
     },
     "metadata": {
      "tags": []
     },
     "execution_count": 21
    },
    {
     "output_type": "display_data",
     "data": {
      "image/png": "[encoded data removed]",
      "text/plain": [
       "<Figure size 432x288 with 1 Axes>"
      ]
     },
     "metadata": {
      "tags": [],
      "needs_background": "light"
     }
    },
    {
     "output_type": "display_data",
     "data": {
      "image/png": "[encoded data removed]",
      "text/plain": [
       "<Figure size 432x288 with 1 Axes>"
      ]
     },
     "metadata": {
      "tags": [],
      "needs_background": "light"
     }
    },
    {
     "output_type": "display_data",
     "data": {
      "image/png": "[encoded data removed]",
      "text/plain": [
       "<Figure size 432x288 with 1 Axes>"
      ]
     },
     "metadata": {
      "tags": [],
      "needs_background": "light"
     }
    }
   ]
  },
  {
   "cell_type": "code",
   "metadata": {
    "id": "8ukBSXYkhFyZ",
    "colab_type": "code",
    "colab": {
     "base_uri": "https://localhost:8080/",
     "height": 437
    },
    "outputId": "30399a7b-ecd4-4fcd-ca5c-38844563f914"
   },
   "source": [
    "import torchvision.transforms as transforms\n",
    "# predict\n",
    "\n",
    "tensor_image = torch.tensor(image).float()\n",
    "tensor_image = tensor_image.unsqueeze(0).unsqueeze(0)\n",
    "# std = torch.std(tensor_image)\n",
    "# mean = torch.mean(tensor_image)\n",
    "# tensor_image = (tensor_image - mean) / std\n",
    "\n",
    "output = network(tensor_image)\n",
    "sm = torch.nn.functional.softmax  # squeeze probabilies between 0 and 1 to see clear\n",
    "probabilities = sm(output)\n",
    "\n",
    "print(\"actual: \", image_path[0])\n",
    "\n",
    "probability, prediction = torch.max(probabilities,1)\n",
    "prediction = prediction.item()\n",
    "probabilities = probabilities.tolist()[0]\n",
    "print(\"probabilities: \", probabilities)\n",
    "labels = list(range(10))\n",
    "print(\"labels:\", labels)\n",
    "print(\"probabilities vs labels:\", dict(zip(labels, probabilities)))\n",
    "print(\"probability: \", probability.item()*100)\n",
    "print(\"prediction: \", prediction)\n",
    "\n",
    "# idx = 1\n",
    "# image = np.squeeze(images[idx])\n",
    "# label = labels[idx]\n",
    "# prediction = predictions[idx]\n",
    "plt.imshow(tensor_image.numpy().squeeze(), cmap=\"gray\")\n",
    "plt.title(\"actual: \" + str(image_path[0]) + \" || \" + \"predicted: \" + str(prediction))"
   ],
   "execution_count": 22,
   "outputs": [
    {
     "output_type": "stream",
     "text": [
      "actual:  2\n",
      "probabilities:  [2.1657463378232933e-07, 0.00031374942045658827, 0.9965285658836365, 0.0011358766350895166, 1.8536680101988168e-07, 5.088235184302903e-07, 2.3364722778751457e-07, 6.714655228279298e-06, 0.002010426949709654, 3.44866089108109e-06]\n",
      "labels: [0, 1, 2, 3, 4, 5, 6, 7, 8, 9]\n",
      "probability:  99.65285658836365\n",
      "prediction:  2\n"
     ],
     "name": "stdout"
    },
    {
     "output_type": "stream",
     "text": [
      "/usr/local/lib/python3.6/dist-packages/ipykernel_launcher.py:12: UserWarning: Implicit dimension choice for softmax has been deprecated. Change the call to include dim=X as an argument.\n",
      "  if sys.path[0] == '':\n"
     ],
     "name": "stderr"
    },
    {
     "output_type": "execute_result",
     "data": {
      "text/plain": [
       "Text(0.5, 1.0, 'actual: 2 || predicted: 2')"
      ]
     },
     "metadata": {
      "tags": []
     },
     "execution_count": 22
    },
    {
     "output_type": "display_data",
     "data": {
      "image/png": "[encoded data removed]",
      "text/plain": [
       "<Figure size 432x288 with 1 Axes>"
      ]
     },
     "metadata": {
      "tags": [],
      "needs_background": "light"
     }
    }
   ]
  }
 ]
}